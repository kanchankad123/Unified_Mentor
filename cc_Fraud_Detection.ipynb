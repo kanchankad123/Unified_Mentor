{
 "cells": [
  {
   "cell_type": "markdown",
   "id": "ef28d07d-2ab7-4574-8f16-718644a099e0",
   "metadata": {},
   "source": [
    "**Project: Credit Card Fraud Detection**"
   ]
  },
  {
   "cell_type": "markdown",
   "id": "ad7d4899-cdfe-455d-b16d-41140c287eb2",
   "metadata": {},
   "source": [
    "Name: Kanchan Santosh Kad."
   ]
  },
  {
   "cell_type": "code",
   "execution_count": 1,
   "id": "fd0cb73c-3f54-4b34-ab42-d8e5c43b1e9f",
   "metadata": {},
   "outputs": [],
   "source": [
    "import numpy as np\n",
    "import pandas as pd\n",
    "import matplotlib.pyplot as plt\n",
    "import seaborn as sns\n",
    "from sklearn.model_selection import train_test_split, KFold, GridSearchCV\n",
    "from sklearn.ensemble import RandomForestClassifier, IsolationForest\n",
    "from sklearn.preprocessing import StandardScaler\n",
    "from imblearn.over_sampling import SMOTE\n",
    "from sklearn.metrics import classification_report, accuracy_score, roc_auc_score, confusion_matrix\n",
    "from collections import Counter"
   ]
  },
  {
   "cell_type": "code",
   "execution_count": 2,
   "id": "b38a6eca-2888-403c-b16e-be17815b8479",
   "metadata": {},
   "outputs": [],
   "source": [
    "cc_info = pd.read_csv(\"cc_info.csv\")  \n",
    "transactions = pd.read_csv(\"transactions.csv\") "
   ]
  },
  {
   "cell_type": "code",
   "execution_count": 3,
   "id": "ca5ccbac-f649-4521-b0a6-ed2f0d171c98",
   "metadata": {},
   "outputs": [],
   "source": [
    "\n",
    "# Merge both datasets on 'credit_card'\n",
    "data = transactions.merge(cc_info, on=\"credit_card\", how=\"left\")"
   ]
  },
  {
   "cell_type": "code",
   "execution_count": 4,
   "id": "c8084145-b665-4086-9176-320493e4ac27",
   "metadata": {},
   "outputs": [
    {
     "name": "stdout",
     "output_type": "stream",
     "text": [
      "<class 'pandas.core.frame.DataFrame'>\n",
      "RangeIndex: 294588 entries, 0 to 294587\n",
      "Data columns (total 9 columns):\n",
      " #   Column                     Non-Null Count   Dtype  \n",
      "---  ------                     --------------   -----  \n",
      " 0   credit_card                294588 non-null  int64  \n",
      " 1   date                       294588 non-null  object \n",
      " 2   transaction_dollar_amount  294588 non-null  float64\n",
      " 3   Long                       294588 non-null  float64\n",
      " 4   Lat                        294588 non-null  float64\n",
      " 5   city                       294588 non-null  object \n",
      " 6   state                      294588 non-null  object \n",
      " 7   zipcode                    294588 non-null  int64  \n",
      " 8   credit_card_limit          294588 non-null  int64  \n",
      "dtypes: float64(3), int64(3), object(3)\n",
      "memory usage: 20.2+ MB\n",
      "None\n",
      "        credit_card                 date  transaction_dollar_amount  \\\n",
      "0  1003715054175576  2015-09-11 00:32:40                      43.78   \n",
      "1  1003715054175576  2015-10-24 22:23:08                     103.15   \n",
      "2  1003715054175576  2015-10-26 18:19:36                      48.55   \n",
      "3  1003715054175576  2015-10-22 19:41:10                     136.18   \n",
      "4  1003715054175576  2015-10-26 20:08:22                      71.82   \n",
      "\n",
      "        Long        Lat     city state  zipcode  credit_card_limit  \n",
      "0 -80.174132  40.267370  Houston    PA    15342              20000  \n",
      "1 -80.194240  40.180114  Houston    PA    15342              20000  \n",
      "2 -80.211033  40.313004  Houston    PA    15342              20000  \n",
      "3 -80.174138  40.290895  Houston    PA    15342              20000  \n",
      "4 -80.238720  40.166719  Houston    PA    15342              20000  \n"
     ]
    }
   ],
   "source": [
    "print(data.info())\n",
    "print(data.head())"
   ]
  },
  {
   "cell_type": "code",
   "execution_count": 5,
   "id": "5edba665-2c8b-49b9-8201-c663031c5a00",
   "metadata": {},
   "outputs": [
    {
     "data": {
      "text/plain": [
       "credit_card                  0\n",
       "date                         0\n",
       "transaction_dollar_amount    0\n",
       "Long                         0\n",
       "Lat                          0\n",
       "city                         0\n",
       "state                        0\n",
       "zipcode                      0\n",
       "credit_card_limit            0\n",
       "dtype: int64"
      ]
     },
     "execution_count": 5,
     "metadata": {},
     "output_type": "execute_result"
    }
   ],
   "source": [
    "data.isnull().sum()"
   ]
  },
  {
   "cell_type": "code",
   "execution_count": 6,
   "id": "be579c34-6ae3-4ddf-8cb0-52487e878874",
   "metadata": {},
   "outputs": [
    {
     "name": "stderr",
     "output_type": "stream",
     "text": [
      "C:\\Users\\kanchan\\AppData\\Local\\Temp\\ipykernel_27144\\3262625794.py:2: FutureWarning: DataFrame.fillna with 'method' is deprecated and will raise in a future version. Use obj.ffill() or obj.bfill() instead.\n",
      "  data.fillna(method=\"ffill\", inplace=True)\n"
     ]
    }
   ],
   "source": [
    "# Fill missing values if any\n",
    "data.fillna(method=\"ffill\", inplace=True)"
   ]
  },
  {
   "cell_type": "code",
   "execution_count": 7,
   "id": "9da482f7-ed67-42ef-aa28-05b042974add",
   "metadata": {},
   "outputs": [],
   "source": [
    "# Encoding categorical variables (city, state)\n",
    "data = pd.get_dummies(data, columns=[\"city\", \"state\"], drop_first=True)"
   ]
  },
  {
   "cell_type": "code",
   "execution_count": 8,
   "id": "1bf408e0-0353-4048-92df-e078158202fb",
   "metadata": {},
   "outputs": [],
   "source": [
    "# Feature Scaling for Amount and Credit Limit\n",
    "scaler = StandardScaler()\n",
    "data[\"transaction_dollar_amount\"] = scaler.fit_transform(data[\"transaction_dollar_amount\"].values.reshape(-1, 1))\n",
    "data[\"credit_card_limit\"] = scaler.fit_transform(data[\"credit_card_limit\"].values.reshape(-1, 1))"
   ]
  },
  {
   "cell_type": "code",
   "execution_count": 9,
   "id": "df7daf36-907d-4ca8-8d9b-20c6284242cd",
   "metadata": {},
   "outputs": [],
   "source": [
    "# Define X (features) and y (target)\n",
    "X = data.drop(columns=[\"credit_card\", \"date\"])  # Drop unnecessary columns\n",
    "y = (data[\"transaction_dollar_amount\"] > data[\"credit_card_limit\"]).astype(int)  # Label Fraud if amount > limit\n"
   ]
  },
  {
   "cell_type": "code",
   "execution_count": 10,
   "id": "6faf59af-d0e1-4c65-ac15-a3029c997d66",
   "metadata": {},
   "outputs": [],
   "source": [
    "# Split data into training and testing sets\n",
    "X_train, X_test, y_train, y_test = train_test_split(X, y, test_size=0.3, random_state=42)\n"
   ]
  },
  {
   "cell_type": "code",
   "execution_count": 12,
   "id": "abf7b092-75fc-4406-8c41-32d9df08099f",
   "metadata": {},
   "outputs": [
    {
     "name": "stdout",
     "output_type": "stream",
     "text": [
      "\n",
      "Before SMOTE:  Counter({1: 105377, 0: 100834})\n",
      "After SMOTE:  Counter({0: 105377, 1: 105377})\n"
     ]
    }
   ],
   "source": [
    "# Handling class imbalance using SMOTE\n",
    "print(\"\\nBefore SMOTE: \", Counter(y_train))\n",
    "smote = SMOTE(random_state=42)\n",
    "X_train_res, y_train_res = smote.fit_resample(X_train, y_train)\n",
    "print(\"After SMOTE: \", Counter(y_train_res))"
   ]
  },
  {
   "cell_type": "code",
   "execution_count": 13,
   "id": "2178be6c-431d-46dc-ba67-3a969e7ed175",
   "metadata": {},
   "outputs": [],
   "source": [
    "# Train RandomForest Classifier\n",
    "rfc = RandomForestClassifier(n_estimators=100, random_state=42)\n",
    "rfc.fit(X_train_res, y_train_res)\n",
    "y_pred_rfc = rfc.predict(X_test)"
   ]
  },
  {
   "cell_type": "code",
   "execution_count": 14,
   "id": "fdbf679b-5ae8-456c-98c6-35ef0680201d",
   "metadata": {},
   "outputs": [
    {
     "name": "stdout",
     "output_type": "stream",
     "text": [
      "\n",
      "Random Forest Classifier Performance:\n",
      "              precision    recall  f1-score   support\n",
      "\n",
      "           0       1.00      1.00      1.00     43221\n",
      "           1       1.00      1.00      1.00     45156\n",
      "\n",
      "    accuracy                           1.00     88377\n",
      "   macro avg       1.00      1.00      1.00     88377\n",
      "weighted avg       1.00      1.00      1.00     88377\n",
      "\n",
      "Accuracy: 0.9991061022664268\n",
      "ROC AUC Score: 0.9991173230749367\n"
     ]
    }
   ],
   "source": [
    "# Evaluate RandomForest Model\n",
    "print(\"\\nRandom Forest Classifier Performance:\")\n",
    "print(classification_report(y_test, y_pred_rfc))\n",
    "print(\"Accuracy:\", accuracy_score(y_test, y_pred_rfc))\n",
    "print(\"ROC AUC Score:\", roc_auc_score(y_test, y_pred_rfc))"
   ]
  },
  {
   "cell_type": "code",
   "execution_count": 15,
   "id": "551d43ea-37e5-4b7c-9afa-bcc2a2718982",
   "metadata": {},
   "outputs": [
    {
     "data": {
      "image/png": "[encoded data removed]",
      "text/plain": [
       "<Figure size 600x400 with 2 Axes>"
      ]
     },
     "metadata": {},
     "output_type": "display_data"
    }
   ],
   "source": [
    "# Confusion Matrix Visualization\n",
    "plt.figure(figsize=(6, 4))\n",
    "sns.heatmap(confusion_matrix(y_test, y_pred_rfc), annot=True, fmt=\"d\", cmap=\"coolwarm\", xticklabels=[\"Not Fraud\", \"Fraud\"], \n",
    "            yticklabels=[\"Not Fraud\", \"Fraud\"])\n",
    "plt.xlabel(\"Predicted\")\n",
    "plt.ylabel(\"Actual\")\n",
    "plt.title(\"Confusion Matrix - RandomForest\")\n",
    "plt.show()"
   ]
  },
  {
   "cell_type": "code",
   "execution_count": 16,
   "id": "0428fc3a-fe7d-4f04-a69f-dd592d73be82",
   "metadata": {},
   "outputs": [],
   "source": [
    "# Anomaly Detection using Isolation Forest\n",
    "iso_forest = IsolationForest(contamination=0.001, random_state=42)\n",
    "iso_forest.fit(X_train)\n",
    "y_pred_if = iso_forest.predict(X_test)\n",
    "y_pred_if = [1 if x == -1 else 0 for x in y_pred_if]\n"
   ]
  },
  {
   "cell_type": "code",
   "execution_count": 17,
   "id": "ba4487f6-a04a-49b7-851f-bc7c428fd919",
   "metadata": {},
   "outputs": [
    {
     "name": "stdout",
     "output_type": "stream",
     "text": [
      "\n",
      "Isolation Forest Performance:\n",
      "              precision    recall  f1-score   support\n",
      "\n",
      "           0       0.49      1.00      0.66     43221\n",
      "           1       0.21      0.00      0.00     45156\n",
      "\n",
      "    accuracy                           0.49     88377\n",
      "   macro avg       0.35      0.50      0.33     88377\n",
      "weighted avg       0.35      0.49      0.32     88377\n",
      "\n",
      "Accuracy: 0.48865655091256777\n",
      "ROC AUC Score: 0.4995886598085646\n"
     ]
    }
   ],
   "source": [
    "# Evaluate Isolation Forest Model\n",
    "print(\"\\nIsolation Forest Performance:\")\n",
    "print(classification_report(y_test, y_pred_if))\n",
    "print(\"Accuracy:\", accuracy_score(y_test, y_pred_if))\n",
    "print(\"ROC AUC Score:\", roc_auc_score(y_test, y_pred_if))"
   ]
  },
  {
   "cell_type": "code",
   "execution_count": null,
   "id": "a7975fa2-3fea-426e-9725-b3a5f616940b",
   "metadata": {},
   "outputs": [],
   "source": [
    "# Hyperparameter Tuning for RandomForest\n",
    "param_grid = {\n",
    "    \"n_estimators\": [50, 100, 200],\n",
    "    \"max_depth\": [10, 20, 30],\n",
    "    \"min_samples_split\": [2, 5, 10]\n",
    "}\n",
    "grid_search = GridSearchCV(RandomForestClassifier(random_state=42), param_grid, cv=5, scoring=\"roc_auc\", n_jobs=-1)\n",
    "grid_search.fit(X_train_res, y_train_res)"
   ]
  },
  {
   "cell_type": "code",
   "execution_count": null,
   "id": "9f4ee3de-9300-4234-95c7-f28a1485cf10",
   "metadata": {},
   "outputs": [],
   "source": [
    "# Best Hy# Best Hyperparameters\n",
    "print(\"\\nBest Hyperparameters for RandomForest:\")\n",
    "print(grid_search.best_params_)"
   ]
  },
  {
   "cell_type": "code",
   "execution_count": null,
   "id": "7e84133f-11cf-49e0-a130-e4fcf04008de",
   "metadata": {},
   "outputs": [],
   "source": []
  }
 ],
 "metadata": {
  "kernelspec": {
   "display_name": "Python 3 (ipykernel)",
   "language": "python",
   "name": "python3"
  },
  "language_info": {
   "codemirror_mode": {
    "name": "ipython",
    "version": 3
   },
   "file_extension": ".py",
   "mimetype": "text/x-python",
   "name": "python",
   "nbconvert_exporter": "python",
   "pygments_lexer": "ipython3",
   "version": "3.12.5"
  }
 },
 "nbformat": 4,
 "nbformat_minor": 5
}
